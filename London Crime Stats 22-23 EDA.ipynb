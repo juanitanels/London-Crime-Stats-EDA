{
 "cells": [
  {
   "cell_type": "markdown",
   "id": "9b05ee5b",
   "metadata": {},
   "source": [
    "# London Crime Statistics Financial Year 2022/23 Exploratory Data Analysis\n",
    "\n",
    "This project will perform Exploratory Data Analysis **(EDA)** on MPS Crime Statistics Financial Year 2022/23\n",
    "\n",
    "The original dataset can be downloaded at the _[met.police.uk](https://data.london.gov.uk/dataset/mps-crime-statistics-financial-year-2022-23) website._\n",
    " \n",
    "   \n",
    "\n",
    "\n",
    "\n",
    "\n",
    "\n",
    "***\n",
    "\n",
    "In 2018, the **Metropolitan Police Service** _**(MPS)**_ announced plans to replace its 32 borough model by condensing them into 12 **Basic Command Units** _**(BCUs)**_ to save £325m by 2021/22, or to put it in another fashion, due to police funding cuts. \n",
    "\n",
    "Here is a list of the 12 BCU merges:<br>\n",
    "\n",
    "- Central West BCU *(AW)*: Hammersmith and Fulham, Kensington and Chelsea, Westminster<br>\n",
    "\n",
    "- South West BCU *(SW)*: Kingston, Merton, Richmond, Wandsworth<br>\n",
    "- South BCU *(SN)*: Bromley, Croydon, Sutton<br>\n",
    "- South East BCU *(SE)*: Bexley, Greenwich, Lewisham<br>\n",
    "- East BCU *(EA)*: Barking and Dagenham, Havering, Redbridge<br>\n",
    "- West BCU *(WA)*: Ealing, Hillingdon, Hounslow<br>\n",
    "- Central South BCU *(AS)*: Lambeth, Southwark<br>\n",
    "- North BCU *(NA)*: Enfield, Haringey<br>\n",
    "- Central East BCU: Hackney, Tower Hamlets<br>\n",
    "- Central North BCU *(CN)*: Camden, Islington<br>\n",
    "- North West BCU *(NW)*: Barnet, Brent, Harrow<br>\n",
    "- North East BCU *(NE)*: Newham, Waltham Forest<br>\n",
    "\n",
    "\n",
    "\n",
    "_For more information about the MET and its BCU changes, visit [bbc.co.uk](https://www.bbc.co.uk/news/uk-england-london-43033510#:~:text=The%20Metropolitan%20Police%20says%20it,of%20two%20or%20three%20boroughs.)_"
   ]
  },
  {
   "cell_type": "markdown",
   "id": "50a55933",
   "metadata": {},
   "source": [
    "## Questions\n",
    "\n",
    "1. Which London boroughs and/or investigated the most number of crimes?\n",
    "2. What are the total number of reported crimes in London per year?\n",
    "3. What are the most reported types of criminal offences?\n",
    "4. What are the general trends in crime statistics from FY2022/23?"
   ]
  },
  {
   "cell_type": "code",
   "execution_count": 160,
   "id": "6d3c727a",
   "metadata": {},
   "outputs": [],
   "source": [
    "import numpy as np\n",
    "import pandas as pd\n",
    "import seaborn as sns\n",
    "import matplotlib.pyplot as plt\n",
    "%matplotlib inline"
   ]
  },
  {
   "cell_type": "markdown",
   "id": "da812d56",
   "metadata": {},
   "source": [
    "### Prepping Data"
   ]
  },
  {
   "cell_type": "code",
   "execution_count": 149,
   "id": "2674bc08",
   "metadata": {},
   "outputs": [
    {
     "data": {
      "text/html": [
       "<div>\n",
       "<style scoped>\n",
       "    .dataframe tbody tr th:only-of-type {\n",
       "        vertical-align: middle;\n",
       "    }\n",
       "\n",
       "    .dataframe tbody tr th {\n",
       "        vertical-align: top;\n",
       "    }\n",
       "\n",
       "    .dataframe thead th {\n",
       "        text-align: right;\n",
       "    }\n",
       "</style>\n",
       "<table border=\"1\" class=\"dataframe\">\n",
       "  <thead>\n",
       "    <tr style=\"text-align: right;\">\n",
       "      <th></th>\n",
       "      <th>Month-Year</th>\n",
       "      <th>Type</th>\n",
       "      <th>Crime Section</th>\n",
       "      <th>Crime Group</th>\n",
       "      <th>BCU Name</th>\n",
       "      <th>OCU Name</th>\n",
       "      <th>Financial Year</th>\n",
       "      <th>DateUpTo</th>\n",
       "      <th>Count</th>\n",
       "    </tr>\n",
       "  </thead>\n",
       "  <tbody>\n",
       "    <tr>\n",
       "      <th>0</th>\n",
       "      <td>2017-04-01</td>\n",
       "      <td>Offences</td>\n",
       "      <td>Miscellaneous Crimes Against Society</td>\n",
       "      <td>Other Forgery</td>\n",
       "      <td>Central North BCU</td>\n",
       "      <td>Islington</td>\n",
       "      <td>fy17-18</td>\n",
       "      <td>2023-03-01</td>\n",
       "      <td>3</td>\n",
       "    </tr>\n",
       "    <tr>\n",
       "      <th>1</th>\n",
       "      <td>2017-04-01</td>\n",
       "      <td>Sanction Detections</td>\n",
       "      <td>Miscellaneous Crimes Against Society</td>\n",
       "      <td>Perverting Course of Justice</td>\n",
       "      <td>Central West BCU</td>\n",
       "      <td>Hammersmith &amp; Fulham</td>\n",
       "      <td>fy17-18</td>\n",
       "      <td>2023-03-01</td>\n",
       "      <td>3</td>\n",
       "    </tr>\n",
       "    <tr>\n",
       "      <th>2</th>\n",
       "      <td>2017-04-01</td>\n",
       "      <td>Sanction Detections</td>\n",
       "      <td>Arson and Criminal Damage</td>\n",
       "      <td>Arson</td>\n",
       "      <td>West BCU</td>\n",
       "      <td>Hillingdon</td>\n",
       "      <td>fy17-18</td>\n",
       "      <td>2023-03-01</td>\n",
       "      <td>1</td>\n",
       "    </tr>\n",
       "    <tr>\n",
       "      <th>3</th>\n",
       "      <td>2017-04-01</td>\n",
       "      <td>Offences</td>\n",
       "      <td>Theft</td>\n",
       "      <td>Shoplifting</td>\n",
       "      <td>West BCU</td>\n",
       "      <td>Ealing</td>\n",
       "      <td>fy17-18</td>\n",
       "      <td>2023-03-01</td>\n",
       "      <td>128</td>\n",
       "    </tr>\n",
       "    <tr>\n",
       "      <th>4</th>\n",
       "      <td>2017-04-01</td>\n",
       "      <td>Offences</td>\n",
       "      <td>Robbery</td>\n",
       "      <td>Robbery of Personal Property</td>\n",
       "      <td>South East BCU</td>\n",
       "      <td>Lewisham</td>\n",
       "      <td>fy17-18</td>\n",
       "      <td>2023-03-01</td>\n",
       "      <td>47</td>\n",
       "    </tr>\n",
       "  </tbody>\n",
       "</table>\n",
       "</div>"
      ],
      "text/plain": [
       "   Month-Year                 Type                         Crime Section  \\\n",
       "0  2017-04-01             Offences  Miscellaneous Crimes Against Society   \n",
       "1  2017-04-01  Sanction Detections  Miscellaneous Crimes Against Society   \n",
       "2  2017-04-01  Sanction Detections             Arson and Criminal Damage   \n",
       "3  2017-04-01             Offences                                 Theft   \n",
       "4  2017-04-01             Offences                               Robbery   \n",
       "\n",
       "                    Crime Group           BCU Name              OCU Name  \\\n",
       "0                 Other Forgery  Central North BCU             Islington   \n",
       "1  Perverting Course of Justice   Central West BCU  Hammersmith & Fulham   \n",
       "2                         Arson           West BCU            Hillingdon   \n",
       "3                   Shoplifting           West BCU                Ealing   \n",
       "4  Robbery of Personal Property     South East BCU              Lewisham   \n",
       "\n",
       "  Financial Year    DateUpTo  Count  \n",
       "0        fy17-18  2023-03-01      3  \n",
       "1        fy17-18  2023-03-01      3  \n",
       "2        fy17-18  2023-03-01      1  \n",
       "3        fy17-18  2023-03-01    128  \n",
       "4        fy17-18  2023-03-01     47  "
      ]
     },
     "execution_count": 149,
     "metadata": {},
     "output_type": "execute_result"
    }
   ],
   "source": [
    "#Reading data & getting top 5 rows\n",
    "data = pd.read_csv(\"/Users/juanitanelson-addy/OneDrive/VS CODE/CODING PROJECTS/datasets/crimestats-2022-23.csv\")\n",
    "\n",
    "data.head()"
   ]
  },
  {
   "cell_type": "code",
   "execution_count": 150,
   "id": "e1ff2ae7",
   "metadata": {},
   "outputs": [
    {
     "name": "stdout",
     "output_type": "stream",
     "text": [
      "<class 'pandas.core.frame.DataFrame'>\n",
      "RangeIndex: 142756 entries, 0 to 142755\n",
      "Data columns (total 9 columns):\n",
      " #   Column          Non-Null Count   Dtype \n",
      "---  ------          --------------   ----- \n",
      " 0   Month-Year      142756 non-null  object\n",
      " 1   Type            142756 non-null  object\n",
      " 2   Crime Section   142756 non-null  object\n",
      " 3   Crime Group     142756 non-null  object\n",
      " 4   BCU Name        142756 non-null  object\n",
      " 5   OCU Name        142756 non-null  object\n",
      " 6   Financial Year  142756 non-null  object\n",
      " 7   DateUpTo        142756 non-null  object\n",
      " 8   Count           142756 non-null  int64 \n",
      "dtypes: int64(1), object(8)\n",
      "memory usage: 9.8+ MB\n"
     ]
    }
   ],
   "source": [
    "data.info()"
   ]
  },
  {
   "cell_type": "code",
   "execution_count": 151,
   "id": "c6078fbb",
   "metadata": {},
   "outputs": [
    {
     "data": {
      "text/html": [
       "<div>\n",
       "<style scoped>\n",
       "    .dataframe tbody tr th:only-of-type {\n",
       "        vertical-align: middle;\n",
       "    }\n",
       "\n",
       "    .dataframe tbody tr th {\n",
       "        vertical-align: top;\n",
       "    }\n",
       "\n",
       "    .dataframe thead th {\n",
       "        text-align: right;\n",
       "    }\n",
       "</style>\n",
       "<table border=\"1\" class=\"dataframe\">\n",
       "  <thead>\n",
       "    <tr style=\"text-align: right;\">\n",
       "      <th></th>\n",
       "      <th>Missing Values</th>\n",
       "    </tr>\n",
       "  </thead>\n",
       "  <tbody>\n",
       "    <tr>\n",
       "      <th>Month-Year</th>\n",
       "      <td>0</td>\n",
       "    </tr>\n",
       "    <tr>\n",
       "      <th>Type</th>\n",
       "      <td>0</td>\n",
       "    </tr>\n",
       "    <tr>\n",
       "      <th>Crime Section</th>\n",
       "      <td>0</td>\n",
       "    </tr>\n",
       "    <tr>\n",
       "      <th>Crime Group</th>\n",
       "      <td>0</td>\n",
       "    </tr>\n",
       "    <tr>\n",
       "      <th>BCU Name</th>\n",
       "      <td>0</td>\n",
       "    </tr>\n",
       "    <tr>\n",
       "      <th>OCU Name</th>\n",
       "      <td>0</td>\n",
       "    </tr>\n",
       "    <tr>\n",
       "      <th>Financial Year</th>\n",
       "      <td>0</td>\n",
       "    </tr>\n",
       "    <tr>\n",
       "      <th>DateUpTo</th>\n",
       "      <td>0</td>\n",
       "    </tr>\n",
       "    <tr>\n",
       "      <th>Count</th>\n",
       "      <td>0</td>\n",
       "    </tr>\n",
       "  </tbody>\n",
       "</table>\n",
       "</div>"
      ],
      "text/plain": [
       "                Missing Values\n",
       "Month-Year                   0\n",
       "Type                         0\n",
       "Crime Section                0\n",
       "Crime Group                  0\n",
       "BCU Name                     0\n",
       "OCU Name                     0\n",
       "Financial Year               0\n",
       "DateUpTo                     0\n",
       "Count                        0"
      ]
     },
     "execution_count": 151,
     "metadata": {},
     "output_type": "execute_result"
    }
   ],
   "source": [
    "pd.DataFrame(data.isnull().sum(), columns= [\"Missing Values\"])"
   ]
  },
  {
   "cell_type": "markdown",
   "id": "fa6c8b3b",
   "metadata": {},
   "source": [
    "Now that we have imported, explored and prepped the data, we can now start to look to answering our questions!\n",
    "\n",
    "\n"
   ]
  },
  {
   "cell_type": "markdown",
   "id": "01fa4772",
   "metadata": {},
   "source": [
    "### Finding out which London boroughs have investigated the most crimes"
   ]
  },
  {
   "cell_type": "markdown",
   "id": "02ba4385",
   "metadata": {},
   "source": [
    "Firstly, we will focus on the data that concerns the top boroughs (OCUs), then look at the recently-condensed areas (BCUs) and discuss our findings.\n"
   ]
  },
  {
   "cell_type": "code",
   "execution_count": 152,
   "id": "f2cd94fb",
   "metadata": {},
   "outputs": [
    {
     "data": {
      "text/plain": [
       "OCU Name\n",
       "Lambeth                 4913\n",
       "Westminster             4889\n",
       "Newham                  4876\n",
       "Tower Hamlets           4819\n",
       "Greenwich               4698\n",
       "Croydon                 4685\n",
       "Brent                   4653\n",
       "Enfield                 4642\n",
       "Hackney                 4637\n",
       "Southwark               4620\n",
       "Haringey                4584\n",
       "Ealing                  4573\n",
       "Islington               4572\n",
       "Hounslow                4568\n",
       "Wandsworth              4568\n",
       "Lewisham                4546\n",
       "Barnet                  4473\n",
       "Camden                  4426\n",
       "Waltham Forest          4400\n",
       "Hammersmith & Fulham    4377\n",
       "Hillingdon              4349\n",
       "Redbridge               4316\n",
       "Barking & Dagenham      4253\n",
       "Bromley                 4189\n",
       "Kensington & Chelsea    4103\n",
       "Havering                4067\n",
       "Harrow                  3939\n",
       "Merton                  3934\n",
       "Bexley                  3882\n",
       "Sutton                  3716\n",
       "Kingston upon Thames    3696\n",
       "Richmond upon Thames    3506\n",
       "Aviation Policing       2287\n",
       "Name: count, dtype: int64"
      ]
     },
     "execution_count": 152,
     "metadata": {},
     "output_type": "execute_result"
    }
   ],
   "source": [
    "# Counting no. of times a borough appears\n",
    "top_boroughs = pd.Series(data[\"OCU Name\"]).value_counts()\n",
    "top_boroughs"
   ]
  },
  {
   "cell_type": "code",
   "execution_count": 153,
   "id": "a41c703f",
   "metadata": {},
   "outputs": [
    {
     "data": {
      "text/plain": [
       "OCU Name\n",
       "Lambeth          4913\n",
       "Westminster      4889\n",
       "Newham           4876\n",
       "Tower Hamlets    4819\n",
       "Greenwich        4698\n",
       "Croydon          4685\n",
       "Brent            4653\n",
       "Enfield          4642\n",
       "Hackney          4637\n",
       "Southwark        4620\n",
       "Name: count, dtype: int64"
      ]
     },
     "execution_count": 153,
     "metadata": {},
     "output_type": "execute_result"
    }
   ],
   "source": [
    "#Grabbing Top 10 boroughs\n",
    "top_boroughs.head(10)"
   ]
  },
  {
   "cell_type": "code",
   "execution_count": 154,
   "id": "0055b151",
   "metadata": {},
   "outputs": [
    {
     "data": {
      "text/html": [
       "<div>\n",
       "<style scoped>\n",
       "    .dataframe tbody tr th:only-of-type {\n",
       "        vertical-align: middle;\n",
       "    }\n",
       "\n",
       "    .dataframe tbody tr th {\n",
       "        vertical-align: top;\n",
       "    }\n",
       "\n",
       "    .dataframe thead th {\n",
       "        text-align: right;\n",
       "    }\n",
       "</style>\n",
       "<table border=\"1\" class=\"dataframe\">\n",
       "  <thead>\n",
       "    <tr style=\"text-align: right;\">\n",
       "      <th></th>\n",
       "      <th>OCU Name</th>\n",
       "      <th>Count</th>\n",
       "    </tr>\n",
       "  </thead>\n",
       "  <tbody>\n",
       "    <tr>\n",
       "      <th>0</th>\n",
       "      <td>Lambeth</td>\n",
       "      <td>4913</td>\n",
       "    </tr>\n",
       "    <tr>\n",
       "      <th>1</th>\n",
       "      <td>Westminster</td>\n",
       "      <td>4889</td>\n",
       "    </tr>\n",
       "    <tr>\n",
       "      <th>2</th>\n",
       "      <td>Newham</td>\n",
       "      <td>4876</td>\n",
       "    </tr>\n",
       "    <tr>\n",
       "      <th>3</th>\n",
       "      <td>Tower Hamlets</td>\n",
       "      <td>4819</td>\n",
       "    </tr>\n",
       "    <tr>\n",
       "      <th>4</th>\n",
       "      <td>Greenwich</td>\n",
       "      <td>4698</td>\n",
       "    </tr>\n",
       "    <tr>\n",
       "      <th>5</th>\n",
       "      <td>Croydon</td>\n",
       "      <td>4685</td>\n",
       "    </tr>\n",
       "    <tr>\n",
       "      <th>6</th>\n",
       "      <td>Brent</td>\n",
       "      <td>4653</td>\n",
       "    </tr>\n",
       "    <tr>\n",
       "      <th>7</th>\n",
       "      <td>Enfield</td>\n",
       "      <td>4642</td>\n",
       "    </tr>\n",
       "    <tr>\n",
       "      <th>8</th>\n",
       "      <td>Hackney</td>\n",
       "      <td>4637</td>\n",
       "    </tr>\n",
       "    <tr>\n",
       "      <th>9</th>\n",
       "      <td>Southwark</td>\n",
       "      <td>4620</td>\n",
       "    </tr>\n",
       "  </tbody>\n",
       "</table>\n",
       "</div>"
      ],
      "text/plain": [
       "        OCU Name  Count\n",
       "0        Lambeth   4913\n",
       "1    Westminster   4889\n",
       "2         Newham   4876\n",
       "3  Tower Hamlets   4819\n",
       "4      Greenwich   4698\n",
       "5        Croydon   4685\n",
       "6          Brent   4653\n",
       "7        Enfield   4642\n",
       "8        Hackney   4637\n",
       "9      Southwark   4620"
      ]
     },
     "execution_count": 154,
     "metadata": {},
     "output_type": "execute_result"
    }
   ],
   "source": [
    "#New DF for borough counts\n",
    "top_boroughs_counts = data[\"OCU Name\"].value_counts().head(10)\n",
    "top_boroughs_df = top_boroughs_counts.reset_index()\n",
    "top_boroughs_df.columns = [\"OCU Name\", \"Count\"]\n",
    "top_boroughs_df"
   ]
  },
  {
   "cell_type": "code",
   "execution_count": 155,
   "id": "6c5fd0d7",
   "metadata": {},
   "outputs": [
    {
     "data": {
      "image/png": "[encoded data removed]",
      "text/plain": [
       "<Figure size 1000x600 with 1 Axes>"
      ]
     },
     "metadata": {},
     "output_type": "display_data"
    }
   ],
   "source": [
    "#Visualise top borough data\n",
    "plt.figure(figsize=(10,6))\n",
    "sns.barplot(data=top_boroughs_df, x = \"OCU Name\", y = \"Count\", hue = \"OCU Name\", palette=\"mako\", dodge=False)\n",
    "plt.title(\"Boroughs with Most Investigated Crimes\")\n",
    "plt.xlabel(\"Boroughs\")\n",
    "plt.ylabel(\"Investigation Count\")\n",
    "plt.xticks(rotation=45, ha='right')\n",
    "plt.legend([], [], frameon=False)\n",
    "plt.tight_layout()\n",
    "plt.show()"
   ]
  },
  {
   "cell_type": "code",
   "execution_count": 156,
   "id": "25e9407e",
   "metadata": {},
   "outputs": [
    {
     "data": {
      "text/plain": [
       "BCU Name\n",
       "South West BCU           15704\n",
       "West BCU                 13490\n",
       "Central West BCU         13369\n",
       "South East BCU           13126\n",
       "North West BCU           13065\n",
       "East BCU                 12636\n",
       "South BCU                12590\n",
       "Central South BCU         9533\n",
       "Central East BCU          9456\n",
       "North East BCU            9276\n",
       "North BCU                 9226\n",
       "Central North BCU         8998\n",
       "Aviation Policing BCU     2287\n",
       "Name: count, dtype: int64"
      ]
     },
     "execution_count": 156,
     "metadata": {},
     "output_type": "execute_result"
    }
   ],
   "source": [
    "#Is there a trend in which areas of London have the most crimes reported?\n",
    "top_areas = pd.Series(data[\"BCU Name\"]).value_counts()\n",
    "top_areas"
   ]
  },
  {
   "cell_type": "code",
   "execution_count": 157,
   "id": "759c5342",
   "metadata": {},
   "outputs": [
    {
     "data": {
      "text/plain": [
       "BCU Name\n",
       "South West BCU      15704\n",
       "West BCU            13490\n",
       "Central West BCU    13369\n",
       "South East BCU      13126\n",
       "North West BCU      13065\n",
       "Name: count, dtype: int64"
      ]
     },
     "execution_count": 157,
     "metadata": {},
     "output_type": "execute_result"
    }
   ],
   "source": [
    "top_areas.head()"
   ]
  },
  {
   "cell_type": "code",
   "execution_count": 158,
   "id": "568d353f",
   "metadata": {},
   "outputs": [
    {
     "data": {
      "text/html": [
       "<div>\n",
       "<style scoped>\n",
       "    .dataframe tbody tr th:only-of-type {\n",
       "        vertical-align: middle;\n",
       "    }\n",
       "\n",
       "    .dataframe tbody tr th {\n",
       "        vertical-align: top;\n",
       "    }\n",
       "\n",
       "    .dataframe thead th {\n",
       "        text-align: right;\n",
       "    }\n",
       "</style>\n",
       "<table border=\"1\" class=\"dataframe\">\n",
       "  <thead>\n",
       "    <tr style=\"text-align: right;\">\n",
       "      <th></th>\n",
       "      <th>BCU Name</th>\n",
       "      <th>Count</th>\n",
       "    </tr>\n",
       "  </thead>\n",
       "  <tbody>\n",
       "    <tr>\n",
       "      <th>0</th>\n",
       "      <td>South West BCU</td>\n",
       "      <td>15704</td>\n",
       "    </tr>\n",
       "    <tr>\n",
       "      <th>1</th>\n",
       "      <td>West BCU</td>\n",
       "      <td>13490</td>\n",
       "    </tr>\n",
       "    <tr>\n",
       "      <th>2</th>\n",
       "      <td>Central West BCU</td>\n",
       "      <td>13369</td>\n",
       "    </tr>\n",
       "    <tr>\n",
       "      <th>3</th>\n",
       "      <td>South East BCU</td>\n",
       "      <td>13126</td>\n",
       "    </tr>\n",
       "    <tr>\n",
       "      <th>4</th>\n",
       "      <td>North West BCU</td>\n",
       "      <td>13065</td>\n",
       "    </tr>\n",
       "  </tbody>\n",
       "</table>\n",
       "</div>"
      ],
      "text/plain": [
       "           BCU Name  Count\n",
       "0    South West BCU  15704\n",
       "1          West BCU  13490\n",
       "2  Central West BCU  13369\n",
       "3    South East BCU  13126\n",
       "4    North West BCU  13065"
      ]
     },
     "execution_count": 158,
     "metadata": {},
     "output_type": "execute_result"
    }
   ],
   "source": [
    "#New DF for borough counts\n",
    "top_areas_counts = data[\"BCU Name\"].value_counts().head()\n",
    "top_areas_df = top_areas_counts.reset_index()\n",
    "top_areas_df.columns = [\"BCU Name\", \"Count\"]\n",
    "top_areas_df"
   ]
  },
  {
   "cell_type": "code",
   "execution_count": 159,
   "id": "7b38dedf",
   "metadata": {},
   "outputs": [
    {
     "data": {
      "image/png": "[encoded data removed]",
      "text/plain": [
       "<Figure size 1000x600 with 1 Axes>"
      ]
     },
     "metadata": {},
     "output_type": "display_data"
    }
   ],
   "source": [
    "#Visualise data\n",
    "plt.figure(figsize=(10,6))\n",
    "sns.barplot(data=top_areas_df, x = \"BCU Name\", y = \"Count\", hue = \"BCU Name\", palette=\"mako\", dodge=False)\n",
    "plt.title(\"Areas with Most Investigated Crimes\")\n",
    "plt.xlabel(\"Areas\")\n",
    "plt.ylabel(\"Investigation Count\")\n",
    "plt.xticks(rotation=45, ha='right')\n",
    "plt.legend([], [], frameon=False)\n",
    "plt.tight_layout()\n",
    "plt.show()\n"
   ]
  },
  {
   "cell_type": "markdown",
   "id": "3e6d8bec",
   "metadata": {},
   "source": [
    "Findings: The OCU (or borough) that had investigated the most crimes in the given period was Lambeth\n",
    "\n",
    "\n"
   ]
  },
  {
   "cell_type": "markdown",
   "id": "92368c40",
   "metadata": {},
   "source": [
    "# Results Summary\n",
    "\n",
    "##### Question 1: Which London boroughs and/or areas investigated the most number of crimes?\n",
    "**BOROUGHS**\n",
    "\n",
    "Lambeth _(4913)_\n",
    "\n",
    "Westminster _(4889)_\n",
    "\n",
    "Newham _(4876)_\n",
    "\n",
    "Tower Hamlets _(4819)_\n",
    "\n",
    "Greenwich (_4698)_\n",
    "\n",
    "Croydon _(4685)_\n",
    "\n",
    "Brent _(4653)_\n",
    "\n",
    "Enfield _(4642)_\n",
    "\n",
    "Hackney _(4637)_\n",
    "\n",
    "Southwark _(4620)_\n",
    "\n",
    "**AREAS**\n",
    "\n",
    "South West BCU _(15704)_\n",
    "\n",
    "West BCU _(13490)_\n",
    "\n",
    "Central West BCU _(13369)_\n",
    "\n",
    "South East BCU _(13126)_\n",
    "\n",
    "North West BCU _(13065)_\n"
   ]
  }
 ],
 "metadata": {
  "kernelspec": {
   "display_name": "Python 3 (ipykernel)",
   "language": "python",
   "name": "python3"
  },
  "language_info": {
   "codemirror_mode": {
    "name": "ipython",
    "version": 3
   },
   "file_extension": ".py",
   "mimetype": "text/x-python",
   "name": "python",
   "nbconvert_exporter": "python",
   "pygments_lexer": "ipython3",
   "version": "3.12.3"
  }
 },
 "nbformat": 4,
 "nbformat_minor": 5
}
